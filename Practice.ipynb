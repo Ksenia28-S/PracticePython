{
 "cells": [
  {
   "cell_type": "markdown",
   "id": "6e0a90f4",
   "metadata": {},
   "source": [
    "# Семинар 1"
   ]
  },
  {
   "cell_type": "code",
   "execution_count": 1,
   "id": "7a948d93",
   "metadata": {},
   "outputs": [],
   "source": [
    "# Сливкина Ксения\n",
    "# Задача 1\n",
    "def helloWorld(n):\n",
    "    for i in range(1, n+1):\n",
    "        if i % 3 == 0:\n",
    "            print(\"hello\")\n",
    "        elif i % 5 == 0:\n",
    "            print(\"world\")\n",
    "        elif (i % 5 == 0) and (i % 3 == 0):\n",
    "            print(\"helloworld\")\n",
    "        else:\n",
    "            print(i)\n",
    "            \n",
    "helloWorld(5)"
   ]
  },
  {
   "cell_type": "code",
   "execution_count": 13,
   "id": "103cb294",
   "metadata": {},
   "outputs": [],
   "source": [
    "# Сливкина Ксения\n",
    "# Задача 2\n",
    "def ones(lst):\n",
    "    maximum, now = 0, 0\n",
    "    for i in lst:\n",
    "        if i == 1:\n",
    "            now += 1\n",
    "            if maximum < now:\n",
    "                maximum = now\n",
    "        else:\n",
    "            now = 0 \n",
    "    return maximum\n",
    "\n",
    "ones([1, 1, 0, 1, 1, 1])"
   ]
  },
  {
   "cell_type": "code",
   "execution_count": 55,
   "id": "cd347677",
   "metadata": {},
   "outputs": [],
   "source": [
    "# Сливкина Ксения\n",
    "# Задача 3\n",
    "def sumRanges(lst):\n",
    "    itog = []\n",
    "    if len(lst) == 0:\n",
    "        return itog\n",
    "    if len(lst) == 1:\n",
    "        return [str(lst[0])]\n",
    "    start = 0\n",
    "    for i in range(1, len(lst)):\n",
    "        if lst[i] != lst[i - 1] + 1:\n",
    "            if i-1 - start == 0 :\n",
    "                itog.append(str(lst[i-1]))\n",
    "            else:\n",
    "                itog.append(str(lst[start]) + \"->\" + str(lst[i-1]))\n",
    "            start = i\n",
    "        if i == len(lst) - 1:\n",
    "            if i - start == 0 :\n",
    "                itog.append(str(lst[i]))\n",
    "            else:\n",
    "                itog.append(str(lst[start]) + \"->\" + str(lst[i]))\n",
    "            start = i\n",
    "            \n",
    "    return itog"
   ]
  },
  {
   "cell_type": "markdown",
   "id": "5b3a48e9",
   "metadata": {},
   "source": [
    "# Семинар 2"
   ]
  },
  {
   "cell_type": "code",
   "execution_count": 5,
   "id": "8e53cfe0",
   "metadata": {},
   "outputs": [],
   "source": [
    "# Сливкина Ксения\n",
    "# Задача 1\n",
    "def diagonalSum(mat):\n",
    "    result = 0\n",
    "    for i in range(len(mat)):\n",
    "        for j in range(len(mat[0])):\n",
    "            if i == j or i == len(mat[0]) - 1 - j:\n",
    "                result += mat[i][j]\n",
    "    return result\n",
    "\n",
    "diagonalSum([[1,2,3],[4,5,6],[7,8,9]])"
   ]
  },
  {
   "cell_type": "code",
   "execution_count": 38,
   "id": "db27b2a6",
   "metadata": {},
   "outputs": [
    {
     "data": {
      "text/plain": [
       "[1, 20, 30, 30, 40]"
      ]
     },
     "execution_count": 38,
     "metadata": {},
     "output_type": "execute_result"
    }
   ],
   "source": [
    "# Сливкина Ксения\n",
    "# Задача 2\n",
    "def merge(first, second):\n",
    "    result = []\n",
    "    while first and second:\n",
    "        if first[0] > second[0]:\n",
    "            result.append(second.pop(0))\n",
    "        else:\n",
    "            result.append(first.pop(0))\n",
    "    result.extend(first or second)\n",
    "    return result\n",
    "\n",
    "first = [1, 20, 30]\n",
    "second = [30, 40]\n",
    "merge(first, second)"
   ]
  },
  {
   "cell_type": "code",
   "execution_count": 28,
   "id": "1997152f",
   "metadata": {},
   "outputs": [
    {
     "name": "stdout",
     "output_type": "stream",
     "text": [
      "[25, 100, 225, 400]\n"
     ]
    }
   ],
   "source": [
    "# Сливкина Ксения\n",
    "# Задача 3\n",
    "def squares(s):\n",
    "    result = []\n",
    "    neg = []\n",
    "    pos = []\n",
    "    i = 0\n",
    "    while i <= len(s) - 1 and s[i] <= 0:\n",
    "        neg.append(s[i]**2)\n",
    "        i += 1\n",
    "    while i <= len(s) - 1:\n",
    "        pos.append(s[i]**2)\n",
    "        i += 1\n",
    "    return merge(neg[::-1], pos)\n",
    "\n",
    "с = [-20, -15, -10, -5]\n",
    "print(squares(с))"
   ]
  },
  {
   "cell_type": "code",
   "execution_count": 39,
   "id": "27f2055b",
   "metadata": {},
   "outputs": [
    {
     "data": {
      "text/plain": [
       "'c3'"
      ]
     },
     "execution_count": 39,
     "metadata": {},
     "output_type": "execute_result"
    }
   ],
   "source": [
    "# Сливкина Ксения\n",
    "# Задача 4\n",
    "\n",
    "def compress(chrs):\n",
    "    res = \"\"\n",
    "    i, j = 0, 0\n",
    "    while i < len(chrs):\n",
    "        count = 0\n",
    "        while j < len(chrs) and chrs[i] == chrs[j]:\n",
    "            count += 1\n",
    "            j += 1\n",
    "        if count > 1:\n",
    "            res += str(chrs[i])+str(count)\n",
    "        else:\n",
    "            res += str(chrs[i])\n",
    "        i = j\n",
    "    return res\n",
    "  \n",
    "chrs = [\"a\",\"b\",\"b\",\"c\",\"c\",\"c\"]\n",
    "chrs2 = [\"d\",\"a\",\"b\",\"c\"]\n",
    "chrs3 = [\"c\",\"c\",\"c\"] \n",
    "compress(chrs3)"
   ]
  },
  {
   "cell_type": "code",
   "execution_count": null,
   "id": "4954792d",
   "metadata": {},
   "outputs": [],
   "source": []
  }
 ],
 "metadata": {
  "kernelspec": {
   "display_name": "Python 3 (ipykernel)",
   "language": "python",
   "name": "python3"
  },
  "language_info": {
   "codemirror_mode": {
    "name": "ipython",
    "version": 3
   },
   "file_extension": ".py",
   "mimetype": "text/x-python",
   "name": "python",
   "nbconvert_exporter": "python",
   "pygments_lexer": "ipython3",
   "version": "3.9.7"
  }
 },
 "nbformat": 4,
 "nbformat_minor": 5
}
